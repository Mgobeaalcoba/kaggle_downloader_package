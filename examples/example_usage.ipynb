{
 "cells": [
  {
   "cell_type": "code",
   "execution_count": 1,
   "metadata": {},
   "outputs": [],
   "source": [
    "from kaggle_downloader_package.kaggle_downloader import KaggleDownloader\n",
    "import pandas as pd"
   ]
  },
  {
   "cell_type": "code",
   "execution_count": 2,
   "metadata": {},
   "outputs": [],
   "source": [
    "kaggle_downloader = KaggleDownloader()"
   ]
  },
  {
   "cell_type": "code",
   "execution_count": 3,
   "metadata": {},
   "outputs": [
    {
     "name": "stdout",
     "output_type": "stream",
     "text": [
      "Kaggle authentication successful with credentials in ./kaggle.json\n"
     ]
    }
   ],
   "source": [
    "kaggle_downloader.authenticate_kaggle()"
   ]
  },
  {
   "cell_type": "code",
   "execution_count": 4,
   "metadata": {},
   "outputs": [
    {
     "name": "stdout",
     "output_type": "stream",
     "text": [
      "ref                                                 title                                         size  lastUpdated          downloadCount  voteCount  usabilityRating  \n",
      "--------------------------------------------------  -------------------------------------------  -----  -------------------  -------------  ---------  ---------------  \n",
      "abcsds/pokemon                                      Pokemon with stats                            15KB  2016-08-29 06:01:43         126009       2564  0.88235295       \n",
      "vishalsubbiah/pokemon-images-and-types              Pokemon Image Dataset                          4MB  2024-03-14 18:23:40          34330        532  1.0              \n",
      "rounakbanik/pokemon                                 The Complete Pokemon Dataset                  47KB  2017-09-29 19:49:32          71687       1180  0.8235294        \n",
      "kvpratama/pokemon-images-dataset                    Pokemon Images Dataset                        71MB  2020-08-10 02:05:00          16819        292  0.875            \n",
      "jaidalmotra/pokemon-dataset                         Pokemon Dataset                               19KB  2024-04-30 10:38:36           2774         63  1.0              \n",
      "terminus7/pokemon-challenge                         Pokemon- Weedle's Cave                       285KB  2017-09-21 08:43:04          43936        467  0.7352941        \n",
      "mlomuscio/pokemon                                   Pokemon                                       14KB  2019-09-03 01:14:49           2168         34  0.8235294        \n",
      "lantian773030/pokemonclassification                 7,000 Labeled Pokemon                        417MB  2019-11-09 23:15:13           8016        193  0.875            \n",
      "ulrikthygepedersen/pokemon-stats                    Pokemon Stats                                 19KB  2023-03-01 14:20:56           1447         40  1.0              \n",
      "thedagger/pokemon-generation-one                    Pokemon Generation One                         2GB  2018-08-02 06:47:33           8921        263  0.625            \n",
      "mrdew25/pokemon-database                            Pokemon Database                              94KB  2024-02-11 15:44:28           2459         61  0.8235294        \n",
      "mariotormo/complete-pokemon-dataset-updated-090420  Complete Pokemon Dataset (Updated 16.04.21)  195KB  2021-04-16 06:32:50          10366        174  0.9705882        \n",
      "maca11/all-pokemon-dataset                          All Pokemon Dataset                           56KB  2021-10-20 07:04:01           2362         60  0.88235295       \n",
      "shreyasur965/pokemon-go                             Pokemon Go                                    39KB  2024-08-05 06:07:09           1040         27  1.0              \n",
      "lunamcbride24/pokemon-type-matchup-data             Pokemon Type Matchup Data                      9KB  2020-10-14 18:56:23           1791         71  1.0              \n",
      "hlrhegemony/pokemon-image-dataset                   Complete Pokemon Image Dataset                58MB  2020-11-15 01:51:47           3439         47  0.875            \n",
      "mylesoneill/pokemon-sun-and-moon-gen-7-stats        Pokemon Sun and Moon (Gen 7) Stats           271KB  2019-11-17 22:16:07           3575         80  0.9705882        \n",
      "kylekohnen/complete-pokemon-data-set                Complete Pokemon Data Set                     52KB  2021-08-24 21:12:21           1216         37  1.0              \n",
      "brilja/pokemon-mugshots-from-super-mystery-dungeon  Pokemon Mugshots                              81MB  2019-05-21 04:09:03            450         27  0.5625           \n",
      "abcsds/pokemongo                                    PokemonGO                                      4KB  2016-08-26 04:57:19           3019         32  0.8235294        \n",
      "Datasets listed for theme: pokemon\n"
     ]
    }
   ],
   "source": [
    "kaggle_downloader.search_datasets(\"pokemon\")"
   ]
  },
  {
   "cell_type": "code",
   "execution_count": 5,
   "metadata": {},
   "outputs": [
    {
     "name": "stdout",
     "output_type": "stream",
     "text": [
      "Dataset URL: https://www.kaggle.com/datasets/abcsds/pokemon\n",
      "License(s): CC0-1.0\n",
      "Downloading pokemon.zip to .\n",
      "\n",
      "Dataset 'abcsds/pokemon' downloaded successfully to .\n"
     ]
    },
    {
     "name": "stderr",
     "output_type": "stream",
     "text": [
      "100%|██████████| 14.9k/14.9k [00:00<00:00, 4.75MB/s]\n"
     ]
    }
   ],
   "source": [
    "kaggle_downloader.download_dataset(\"abcsds/pokemon\")"
   ]
  },
  {
   "cell_type": "code",
   "execution_count": 6,
   "metadata": {},
   "outputs": [
    {
     "name": "stdout",
     "output_type": "stream",
     "text": [
      "<class 'pandas.core.frame.DataFrame'>\n",
      "RangeIndex: 800 entries, 0 to 799\n",
      "Data columns (total 13 columns):\n",
      " #   Column      Non-Null Count  Dtype \n",
      "---  ------      --------------  ----- \n",
      " 0   #           800 non-null    int64 \n",
      " 1   Name        800 non-null    object\n",
      " 2   Type 1      800 non-null    object\n",
      " 3   Type 2      414 non-null    object\n",
      " 4   Total       800 non-null    int64 \n",
      " 5   HP          800 non-null    int64 \n",
      " 6   Attack      800 non-null    int64 \n",
      " 7   Defense     800 non-null    int64 \n",
      " 8   Sp. Atk     800 non-null    int64 \n",
      " 9   Sp. Def     800 non-null    int64 \n",
      " 10  Speed       800 non-null    int64 \n",
      " 11  Generation  800 non-null    int64 \n",
      " 12  Legendary   800 non-null    bool  \n",
      "dtypes: bool(1), int64(9), object(3)\n",
      "memory usage: 75.9+ KB\n"
     ]
    }
   ],
   "source": [
    "df = pd.read_csv(\"Pokemon.csv\")\n",
    "df.info()"
   ]
  },
  {
   "cell_type": "code",
   "execution_count": 7,
   "metadata": {},
   "outputs": [
    {
     "data": {
      "text/html": [
       "<div>\n",
       "<style scoped>\n",
       "    .dataframe tbody tr th:only-of-type {\n",
       "        vertical-align: middle;\n",
       "    }\n",
       "\n",
       "    .dataframe tbody tr th {\n",
       "        vertical-align: top;\n",
       "    }\n",
       "\n",
       "    .dataframe thead th {\n",
       "        text-align: right;\n",
       "    }\n",
       "</style>\n",
       "<table border=\"1\" class=\"dataframe\">\n",
       "  <thead>\n",
       "    <tr style=\"text-align: right;\">\n",
       "      <th></th>\n",
       "      <th>#</th>\n",
       "      <th>Name</th>\n",
       "      <th>Type 1</th>\n",
       "      <th>Type 2</th>\n",
       "      <th>Total</th>\n",
       "      <th>HP</th>\n",
       "      <th>Attack</th>\n",
       "      <th>Defense</th>\n",
       "      <th>Sp. Atk</th>\n",
       "      <th>Sp. Def</th>\n",
       "      <th>Speed</th>\n",
       "      <th>Generation</th>\n",
       "      <th>Legendary</th>\n",
       "    </tr>\n",
       "  </thead>\n",
       "  <tbody>\n",
       "    <tr>\n",
       "      <th>0</th>\n",
       "      <td>1</td>\n",
       "      <td>Bulbasaur</td>\n",
       "      <td>Grass</td>\n",
       "      <td>Poison</td>\n",
       "      <td>318</td>\n",
       "      <td>45</td>\n",
       "      <td>49</td>\n",
       "      <td>49</td>\n",
       "      <td>65</td>\n",
       "      <td>65</td>\n",
       "      <td>45</td>\n",
       "      <td>1</td>\n",
       "      <td>False</td>\n",
       "    </tr>\n",
       "    <tr>\n",
       "      <th>1</th>\n",
       "      <td>2</td>\n",
       "      <td>Ivysaur</td>\n",
       "      <td>Grass</td>\n",
       "      <td>Poison</td>\n",
       "      <td>405</td>\n",
       "      <td>60</td>\n",
       "      <td>62</td>\n",
       "      <td>63</td>\n",
       "      <td>80</td>\n",
       "      <td>80</td>\n",
       "      <td>60</td>\n",
       "      <td>1</td>\n",
       "      <td>False</td>\n",
       "    </tr>\n",
       "    <tr>\n",
       "      <th>2</th>\n",
       "      <td>3</td>\n",
       "      <td>Venusaur</td>\n",
       "      <td>Grass</td>\n",
       "      <td>Poison</td>\n",
       "      <td>525</td>\n",
       "      <td>80</td>\n",
       "      <td>82</td>\n",
       "      <td>83</td>\n",
       "      <td>100</td>\n",
       "      <td>100</td>\n",
       "      <td>80</td>\n",
       "      <td>1</td>\n",
       "      <td>False</td>\n",
       "    </tr>\n",
       "    <tr>\n",
       "      <th>3</th>\n",
       "      <td>3</td>\n",
       "      <td>VenusaurMega Venusaur</td>\n",
       "      <td>Grass</td>\n",
       "      <td>Poison</td>\n",
       "      <td>625</td>\n",
       "      <td>80</td>\n",
       "      <td>100</td>\n",
       "      <td>123</td>\n",
       "      <td>122</td>\n",
       "      <td>120</td>\n",
       "      <td>80</td>\n",
       "      <td>1</td>\n",
       "      <td>False</td>\n",
       "    </tr>\n",
       "    <tr>\n",
       "      <th>4</th>\n",
       "      <td>4</td>\n",
       "      <td>Charmander</td>\n",
       "      <td>Fire</td>\n",
       "      <td>NaN</td>\n",
       "      <td>309</td>\n",
       "      <td>39</td>\n",
       "      <td>52</td>\n",
       "      <td>43</td>\n",
       "      <td>60</td>\n",
       "      <td>50</td>\n",
       "      <td>65</td>\n",
       "      <td>1</td>\n",
       "      <td>False</td>\n",
       "    </tr>\n",
       "  </tbody>\n",
       "</table>\n",
       "</div>"
      ],
      "text/plain": [
       "   #                   Name Type 1  Type 2  Total  HP  Attack  Defense  \\\n",
       "0  1              Bulbasaur  Grass  Poison    318  45      49       49   \n",
       "1  2                Ivysaur  Grass  Poison    405  60      62       63   \n",
       "2  3               Venusaur  Grass  Poison    525  80      82       83   \n",
       "3  3  VenusaurMega Venusaur  Grass  Poison    625  80     100      123   \n",
       "4  4             Charmander   Fire     NaN    309  39      52       43   \n",
       "\n",
       "   Sp. Atk  Sp. Def  Speed  Generation  Legendary  \n",
       "0       65       65     45           1      False  \n",
       "1       80       80     60           1      False  \n",
       "2      100      100     80           1      False  \n",
       "3      122      120     80           1      False  \n",
       "4       60       50     65           1      False  "
      ]
     },
     "execution_count": 7,
     "metadata": {},
     "output_type": "execute_result"
    }
   ],
   "source": [
    "df.head()"
   ]
  },
  {
   "cell_type": "code",
   "execution_count": 8,
   "metadata": {},
   "outputs": [
    {
     "name": "stdout",
     "output_type": "stream",
     "text": [
      "Kaggle API token found at ./kaggle.json.\n"
     ]
    },
    {
     "data": {
      "text/plain": [
       "'./kaggle.json'"
      ]
     },
     "execution_count": 8,
     "metadata": {},
     "output_type": "execute_result"
    }
   ],
   "source": [
    "kaggle_downloader.check_kaggle_json()"
   ]
  },
  {
   "cell_type": "code",
   "execution_count": 9,
   "metadata": {},
   "outputs": [
    {
     "name": "stdout",
     "output_type": "stream",
     "text": [
      "Directory ./downloads/ already exists.\n",
      "Directory config about downloader folder\n"
     ]
    }
   ],
   "source": [
    "kaggle_downloader.create_download_directory(\"./downloads/\")"
   ]
  },
  {
   "cell_type": "code",
   "execution_count": 10,
   "metadata": {},
   "outputs": [
    {
     "name": "stdout",
     "output_type": "stream",
     "text": [
      "ref                                                       title                                               size  lastUpdated          downloadCount  voteCount  usabilityRating  \n",
      "--------------------------------------------------------  -------------------------------------------------  -----  -------------------  -------------  ---------  ---------------  \n",
      "carrie1/ecommerce-data                                    E-Commerce Data                                      7MB  2017-08-17 02:44:30         176940       1691  0.7058824        \n",
      "thedevastator/unlock-profits-with-e-commerce-sales-data   E-Commerce Sales Dataset                             6MB  2022-12-03 09:27:17          67957        503  1.0              \n",
      "olistbr/brazilian-ecommerce                               Brazilian E-Commerce Public Dataset by Olist        43MB  2021-10-01 19:08:27         268399       3257  1.0              \n",
      "benroshan/ecommerce-data                                  E-Commerce Data                                     18KB  2020-04-22 11:47:38          21966        139  1.0              \n",
      "prachi13/customer-analytics                                E-Commerce Shipping Data                          121KB  2021-02-23 12:01:47          37138        366  0.9411765        \n",
      "nicapotato/womens-ecommerce-clothing-reviews              Women's E-Commerce Clothing Reviews                  3MB  2018-02-03 19:59:19          73602       1074  0.88235295       \n",
      "gabrielramos87/an-online-shop-business                    E-commerce Business Transaction                      7MB  2022-05-14 20:11:48          14304        145  1.0              \n",
      "zusmani/pakistans-largest-ecommerce-dataset               Pakistan's Largest E-Commerce Dataset               14MB  2021-01-19 11:42:57          11547        338  0.9705882        \n",
      "jmmvutu/summer-products-and-sales-in-ecommerce-wish       Sales of summer clothes in E-commerce Wish         406KB  2023-12-17 09:48:55          28610        482  1.0              \n",
      "vikashrajluhaniwal/fashion-images                         E-commerce Product Images                          335MB  2021-03-27 10:16:46           5213         69  0.9411765        \n",
      "ulrikthygepedersen/shipping-ecommerce                     Shipping E-Commerce                                 82KB  2023-02-02 09:17:46           3169         42  1.0              \n",
      "mukuldeshantri/ecommerce-fashion-dataset                  E-commerce Dataset with 30K Products               546KB  2022-07-08 12:28:18           7934        106  1.0              \n",
      "atharvaarya25/e-commerce-analysis-uk                      E-Commerce Analysis - UK                             7MB  2023-07-26 05:25:41           2282         40  1.0              \n",
      "uom190346a/e-commerce-customer-behavior-dataset           E-commerce Customer Behavior Dataset                 3KB  2023-11-10 03:01:13           6416         68  1.0              \n",
      "fahmidachowdhury/e-commerce-sales-analysis                📈 E-Commerce Sales Analysis                         35KB  2024-07-04 20:02:23           5102         64  0.9411765        \n",
      "devarajv88/walmart-sales-dataset                          e-Commerce (Walmart) Sales Dataset                   5MB  2024-05-30 12:09:55           5374         64  1.0              \n",
      "shriyashjagtap/fraudulent-e-commerce-transactions         🚨 Fraudulent E-Commerce Transactions ��             159MB  2024-04-07 03:30:07           3229         44  1.0              \n",
      "berkayalan/ecommerce-sales-dataset                        E-Commerce Sales Dataset 🛒                         271KB  2022-01-16 09:15:59           4995         67  1.0              \n",
      "shriyashjagtap/e-commerce-customer-for-behavior-analysis  🛒 E-commerce Customer Data For Behavior Analysis    10MB  2023-09-15 07:17:18           6793         85  1.0              \n",
      "ammaraahmad/us-ecommerce-record-2020                      United States E-Commerce records 2020              160KB  2021-09-02 10:07:45           5165         62  1.0              \n",
      "Datasets listed for theme: commerce\n"
     ]
    }
   ],
   "source": [
    "kaggle_downloader.search_datasets(\"commerce\")"
   ]
  },
  {
   "cell_type": "code",
   "execution_count": 11,
   "metadata": {},
   "outputs": [
    {
     "name": "stdout",
     "output_type": "stream",
     "text": [
      "Dataset URL: https://www.kaggle.com/datasets/carrie1/ecommerce-data\n",
      "License(s): unknown\n",
      "Downloading ecommerce-data.zip to ./downloads\n"
     ]
    },
    {
     "name": "stderr",
     "output_type": "stream",
     "text": [
      " 28%|██▊       | 2.00M/7.20M [00:00<00:01, 4.57MB/s]"
     ]
    },
    {
     "name": "stdout",
     "output_type": "stream",
     "text": [
      "\n",
      "Dataset 'carrie1/ecommerce-data' downloaded successfully to ./downloads/\n"
     ]
    },
    {
     "name": "stderr",
     "output_type": "stream",
     "text": [
      "100%|██████████| 7.20M/7.20M [00:00<00:00, 10.5MB/s]\n"
     ]
    }
   ],
   "source": [
    "kaggle_downloader.download_dataset(\"carrie1/ecommerce-data\")"
   ]
  },
  {
   "cell_type": "code",
   "execution_count": 12,
   "metadata": {},
   "outputs": [
    {
     "name": "stdout",
     "output_type": "stream",
     "text": [
      "Dataset URL: https://www.kaggle.com/datasets/abcsds/pokemon\n",
      "License(s): CC0-1.0\n",
      "Downloading pokemon.zip to ./downloads\n",
      "\n",
      "Dataset 'abcsds/pokemon' downloaded successfully to ./downloads/\n"
     ]
    },
    {
     "name": "stderr",
     "output_type": "stream",
     "text": [
      "100%|██████████| 14.9k/14.9k [00:00<00:00, 4.41MB/s]\n"
     ]
    }
   ],
   "source": [
    "kaggle_downloader.download_dataset(\"abcsds/pokemon\")"
   ]
  },
  {
   "cell_type": "code",
   "execution_count": 13,
   "metadata": {},
   "outputs": [
    {
     "data": {
      "text/plain": [
       "'./downloads/'"
      ]
     },
     "execution_count": 13,
     "metadata": {},
     "output_type": "execute_result"
    }
   ],
   "source": [
    "kaggle_downloader.get_path_downloads()"
   ]
  }
 ],
 "metadata": {
  "kernelspec": {
   "display_name": "kaggle-downloader-package-Xq_4kuFN-py3.12",
   "language": "python",
   "name": "python3"
  },
  "language_info": {
   "codemirror_mode": {
    "name": "ipython",
    "version": 3
   },
   "file_extension": ".py",
   "mimetype": "text/x-python",
   "name": "python",
   "nbconvert_exporter": "python",
   "pygments_lexer": "ipython3",
   "version": "3.12.3"
  }
 },
 "nbformat": 4,
 "nbformat_minor": 2
}
